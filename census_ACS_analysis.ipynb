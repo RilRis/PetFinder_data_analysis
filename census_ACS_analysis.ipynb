{
 "cells": [
  {
   "cell_type": "code",
   "execution_count": 98,
   "id": "4501e70b-f5fd-4a2a-b6c5-943a7ac2be24",
   "metadata": {},
   "outputs": [],
   "source": [
    "import requests\n",
    "import json\n",
    "import pandas as pd"
   ]
  },
  {
   "cell_type": "markdown",
   "id": "81eb291f-f732-4773-8b19-97e1f21e6d96",
   "metadata": {},
   "source": [
    "# Create a table containing economic and technology data for each state\n",
    "For each state, use the 1-year 2023 American Community Survey (ACS) to determine the percent of...\n",
    "- employed people (over 16yo) who work in the Agriculture, Forestry, Fishing and Hunting sector [pct_employed_AFFH]\n",
    "- people (>1 year old) in poverty [pct_poverty]\n",
    "- households with computers [pct_computers]\n",
    "- households with internet [pct_internet]\n",
    "- people (>1 year old) living in renter-occupied housing [pct_renters]\n",
    "- people (>1 year old) living in owner-occupied housing [pct_homeowners]\n"
   ]
  },
  {
   "cell_type": "code",
   "execution_count": 88,
   "id": "663a2a6c-4852-4547-9b1b-8c31f68776d7",
   "metadata": {},
   "outputs": [],
   "source": [
    "#use API to fetch ACS results for the variables we care about\n",
    "variables = 'B24050_001E,B24050_003E,B07012_001E,B07012_002E,B28002_001E,B28002_002E,B28003_001E,B28003_002E,B07013_001E,B07013_002E,B07013_003E'\n",
    "response = requests.get(f'https://api.census.gov/data/2023/acs/acs1?get=NAME,{variables}&for=state:*')\n",
    "results = json.loads(response.content.decode())"
   ]
  },
  {
   "cell_type": "code",
   "execution_count": 89,
   "id": "43dcbd1f-2cd7-444b-8b02-12c60f1f001d",
   "metadata": {},
   "outputs": [],
   "source": [
    "#create a dictionary to indicate what each variable code represents\n",
    "var_codes = {\"B24050_001E\" : \"Employed_total\",\n",
    "             \"B24050_003E\" : \"Employed_AFFH\",\n",
    "             \"B07012_001E\" : \"P_Individuals_total\",\n",
    "             \"B07012_002E\" : \"P_Individuals_poverty\",\n",
    "             \"B28002_001E\" : \"I_Households_total\",\n",
    "             \"B28002_002E\" : \"I_Households_internet\",\n",
    "             \"B28003_001E\" : \"C_Households_total\",\n",
    "             \"B28003_002E\" : \"C_Households_computer\",\n",
    "             \"B07013_001E\" : \"H_Individuals_total\",\n",
    "             \"B07013_002E\" : \"H_Individuals_owner\",\n",
    "             \"B07013_003E\" : \"H_Individuals_renter\"\n",
    "            }"
   ]
  },
  {
   "cell_type": "code",
   "execution_count": 90,
   "id": "6efa853f-0c9a-4d59-903e-430280b48217",
   "metadata": {},
   "outputs": [],
   "source": [
    "#create a df using the ACS results we fetched\n",
    "df = pd.DataFrame(results)\n",
    "\n",
    "#make the state column the index and the first row the column names\n",
    "df.columns = df.iloc[0]\n",
    "df.set_index(df['NAME'], inplace=True)\n",
    "df = df.iloc[1:,1:]\n",
    "\n",
    "#rename the columns to better represent what they contain\n",
    "df.rename(columns=var_codes, inplace=True)\n",
    "\n",
    "#remove puerto rico (missing some values that will interfere with calculations)\n",
    "df.drop(index='Puerto Rico', inplace=True)\n"
   ]
  },
  {
   "cell_type": "code",
   "execution_count": 94,
   "id": "0fc02e55-efb5-4cb9-b251-dde6d00f223d",
   "metadata": {},
   "outputs": [],
   "source": [
    "#change the data type of each column to integer\n",
    "df = df[list(df.columns)].astype('int')\n",
    "\n",
    "#create a new dataframe to store values calculated from the census data, then use the total value associated with each variable to determine the percent of people/households that match each condition\n",
    "calc_df = df['Employed_AFFH'].div(df['Employed_total']).mul(100).to_frame('pct_employed_AFFH')\n",
    "calc_df['pct_poverty'] = (df['P_Individuals_poverty']/df['P_Individuals_total'])*100\n",
    "calc_df['pct_computers'] = (df['C_Households_computer']/df['C_Households_total'])*100\n",
    "calc_df['pct_internet'] = (df['I_Households_internet']/df['I_Households_total'])*100\n",
    "calc_df['pct_renters'] = (df['H_Individuals_renter']/df['H_Individuals_total'])*100\n",
    "calc_df['pct_homeowners'] = (df['H_Individuals_owner']/df['H_Individuals_total'])*100"
   ]
  },
  {
   "cell_type": "code",
   "execution_count": 96,
   "id": "12ad153a-288d-42ec-9fc3-09f7abbc1e86",
   "metadata": {},
   "outputs": [],
   "source": [
    "#export the data as a csv in a folder containing census data\n",
    "folder = 'census_data'\n",
    "calc_df.to_csv(f'{folder}/2023_ACS_calculated_data.csv')"
   ]
  }
 ],
 "metadata": {
  "kernelspec": {
   "display_name": "Python 3 (ipykernel)",
   "language": "python",
   "name": "python3"
  },
  "language_info": {
   "codemirror_mode": {
    "name": "ipython",
    "version": 3
   },
   "file_extension": ".py",
   "mimetype": "text/x-python",
   "name": "python",
   "nbconvert_exporter": "python",
   "pygments_lexer": "ipython3",
   "version": "3.13.0"
  }
 },
 "nbformat": 4,
 "nbformat_minor": 5
}
