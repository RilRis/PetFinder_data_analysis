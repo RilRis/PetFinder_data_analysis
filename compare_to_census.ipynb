{
 "cells": [
  {
   "cell_type": "markdown",
   "id": "6a3770fc-4b91-4963-80f9-3f160ecf64bc",
   "metadata": {},
   "source": [
    "# Overview\n",
    "The purpose of this excersize is to use the petfinder data we collected to see if there is a correlation between ownerless dogs and poverty, housing, etc."
   ]
  },
  {
   "cell_type": "code",
   "execution_count": null,
   "id": "ba3cc88b-fc83-457a-9088-cf575980fa7e",
   "metadata": {},
   "outputs": [],
   "source": [
    "import requests\n",
    "import numpy as np\n",
    "import pandas as pd\n",
    "import matplotlib.pyplot as plt\n",
    "import seaborn as sns\n",
    "sns.set_theme(style=\"darkgrid\")"
   ]
  },
  {
   "cell_type": "markdown",
   "id": "85284888-bfa4-4fff-9e99-fc6dbf8a5455",
   "metadata": {},
   "source": [
    "# Load data"
   ]
  },
  {
   "cell_type": "code",
   "execution_count": null,
   "id": "194ce066-e84d-440f-817f-91add47d5253",
   "metadata": {},
   "outputs": [],
   "source": [
    "#specify the folders you store all your data in\n",
    "pf_data_folder = 'petfinder_data'\n",
    "census_data_folder = 'census_data'"
   ]
  },
  {
   "cell_type": "markdown",
   "id": "a53ef97b-5eae-4f17-b1e5-34ae920a3ef0",
   "metadata": {},
   "source": [
    "## Retrieve the state-by-state petfinder data"
   ]
  },
  {
   "cell_type": "markdown",
   "id": "2cfef36b-303d-4879-aa3d-0a808eff59ab",
   "metadata": {},
   "source": [
    "This data was generated using **FETCH_PetFinder_data.ipynb** followed by **stats_per_state.ipynb**"
   ]
  },
  {
   "cell_type": "code",
   "execution_count": null,
   "id": "83c2ba36-222c-4123-886f-77f6ff573be0",
   "metadata": {},
   "outputs": [],
   "source": [
    "#for each time you retreived petfinder data, provide the file name of the state-by-state analysis output. Store the file names as values and the date the data was retrieved as the key. \n",
    "statewise_analysis_files = {'2025-03-17': '2025-03-17_stats_per_state_results.csv', \n",
    "                            '2025-04-03': '2025-04-03_stats_per_state_results.csv'}\n",
    "\n",
    "\n",
    "\n",
    "#load each dataframe into a dictionary\n",
    "dogdfs = {}\n",
    "\n",
    "for date, file in statewise_analysis_files.items():\n",
    "    #load the data into the dictionary...\n",
    "    df = pd.read_csv(f'{pf_data_folder}/{file}')\n",
    "    dogdfs[date] = df\n",
    "    "
   ]
  },
  {
   "cell_type": "markdown",
   "id": "c94e9907-1a7a-454e-a367-b121c2252cb0",
   "metadata": {},
   "source": [
    "## Retrieve US Census data"
   ]
  },
  {
   "cell_type": "markdown",
   "id": "2e811b28-0f65-4a84-8a70-d88dd4baf2bd",
   "metadata": {},
   "source": [
    "### Prepare the 2024 population estimates for each state using data from the US Census website\n",
    "The most recent population estimates (2024) are not available through the API and cloudforce prevents python from reading it directly from the ftp2 site. Therefore, you will have to navigate to the below site in your browser and manually download it into your census data folder.\n",
    "\n",
    "<https://www2.census.gov/programs-surveys/popest/datasets/2020-2024/state/totals/NST-EST2024-ALLDATA.csv>\n"
   ]
  },
  {
   "cell_type": "code",
   "execution_count": null,
   "id": "99e70737-6051-486c-a30e-4aa8716d9c99",
   "metadata": {},
   "outputs": [],
   "source": [
    "#the most recent population estimate data is not available through the API and cloudforce prevents python from reading it directly from the ftp2 site so you will have to navigate to the below site in your browser and manually download it\n",
    "#https://www2.census.gov/programs-surveys/popest/datasets/2020-2024/state/totals/NST-EST2024-ALLDATA.csv\n",
    "pop_data = pd.read_csv(f'{census_data_folder}/NST-EST2024-ALLDATA.csv')\n",
    "pop_data = pop_data[['REGION', 'DIVISION', 'STATE', 'NAME', 'POPESTIMATE2024']]\n",
    "\n"
   ]
  },
  {
   "cell_type": "markdown",
   "id": "ffa9b05e-045f-4841-9635-00a3768fff6a",
   "metadata": {},
   "source": [
    "Using the first few rows in the census data, create a dictionary matching regions IDs to their names"
   ]
  },
  {
   "cell_type": "code",
   "execution_count": null,
   "id": "528a5b04-72bb-420c-8e9c-1cc18e9d80a0",
   "metadata": {},
   "outputs": [],
   "source": [
    "regions = pop_data.copy()\n",
    "\n",
    "#fetch just the rows for the 9 regions\n",
    "regions['REGION'] = pd.to_numeric(regions['REGION'], errors='coerce')\n",
    "regions['DIVISION'] = pd.to_numeric(regions['DIVISION'], errors='coerce')\n",
    "regions.dropna(inplace=True)\n",
    "regions = regions.astype({'REGION': int, 'DIVISION': int})\n",
    "regions = regions.query('(DIVISION > 0) & (STATE == 0)')\n",
    "\n",
    "#create dictionary\n",
    "region_dict = regions.set_index('DIVISION')['NAME'].to_dict()"
   ]
  },
  {
   "cell_type": "markdown",
   "id": "de111fc6-9869-403f-8ecf-d2659016f83b",
   "metadata": {},
   "source": [
    "### Retrieve the calculated economic/household data you generated from the 2023 ACS 1-year data\n",
    "This data was generated using **census_ACS_analysis.ipynb**"
   ]
  },
  {
   "cell_type": "code",
   "execution_count": null,
   "id": "b949b294-4dca-4424-b3ed-f7f3eeff27c8",
   "metadata": {},
   "outputs": [],
   "source": [
    "acs_data = pd.read_csv(f'{census_data_folder}/2023_ACS_calculated_data.csv')"
   ]
  },
  {
   "cell_type": "markdown",
   "id": "72e77c0f-a8a3-4a3e-95c2-3625c51e7fa2",
   "metadata": {},
   "source": [
    "### Create a column containing the state abbreviations in each census dataset\n",
    "\n",
    "The code in this chunk was taken directly from a Medium article by Jason C. (@jason_the_data_scientist)"
   ]
  },
  {
   "cell_type": "code",
   "execution_count": null,
   "id": "aff507ab-e05a-4803-9ec3-01ba4dbec7f6",
   "metadata": {},
   "outputs": [],
   "source": [
    "#List of states\n",
    "state2abbrev = {\n",
    "    'Alaska': 'AK',\n",
    "    'Alabama': 'AL',\n",
    "    'Arkansas': 'AR',\n",
    "    'Arizona': 'AZ',\n",
    "    'California': 'CA',\n",
    "    'Colorado': 'CO',\n",
    "    'Connecticut': 'CT',\n",
    "    'District of Columbia': 'DC',\n",
    "    'Delaware': 'DE',\n",
    "    'Florida': 'FL',\n",
    "    'Georgia': 'GA',\n",
    "    'Hawaii': 'HI',\n",
    "    'Iowa': 'IA',\n",
    "    'Idaho': 'ID',\n",
    "    'Illinois': 'IL',\n",
    "    'Indiana': 'IN',\n",
    "    'Kansas': 'KS',\n",
    "    'Kentucky': 'KY',\n",
    "    'Louisiana': 'LA',\n",
    "    'Massachusetts': 'MA',\n",
    "    'Maryland': 'MD',\n",
    "    'Maine': 'ME',\n",
    "    'Michigan': 'MI',\n",
    "    'Minnesota': 'MN',\n",
    "    'Missouri': 'MO',\n",
    "    'Mississippi': 'MS',\n",
    "    'Montana': 'MT',\n",
    "    'North Carolina': 'NC',\n",
    "    'North Dakota': 'ND',\n",
    "    'Nebraska': 'NE',\n",
    "    'New Hampshire': 'NH',\n",
    "    'New Jersey': 'NJ',\n",
    "    'New Mexico': 'NM',\n",
    "    'Nevada': 'NV',\n",
    "    'New York': 'NY',\n",
    "    'Ohio': 'OH',\n",
    "    'Oklahoma': 'OK',\n",
    "    'Oregon': 'OR',\n",
    "    'Pennsylvania': 'PA',\n",
    "    'Rhode Island': 'RI',\n",
    "    'South Carolina': 'SC',\n",
    "    'South Dakota': 'SD',\n",
    "    'Tennessee': 'TN',\n",
    "    'Texas': 'TX',\n",
    "    'Utah': 'UT',\n",
    "    'Virginia': 'VA',\n",
    "    'Vermont': 'VT',\n",
    "    'Washington': 'WA',\n",
    "    'Wisconsin': 'WI',\n",
    "    'West Virginia': 'WV',\n",
    "    'Wyoming': 'WY',\n",
    "    'Puerto Rico': 'PR',\n",
    "    'Virigin Islands': 'VI'\n",
    "}\n",
    "\n",
    "\n",
    "pop_data['Abbr'] = pop_data['NAME'].str.strip().replace(state2abbrev)\n",
    "acs_data['Abbr'] = acs_data['NAME'].str.strip().replace(state2abbrev)"
   ]
  },
  {
   "cell_type": "markdown",
   "id": "53b74b46-187e-4a07-b7ce-b7a255314f99",
   "metadata": {},
   "source": [
    "# Analysis"
   ]
  },
  {
   "cell_type": "markdown",
   "id": "98f50b14-4114-48bf-93aa-b8f89eb18f61",
   "metadata": {},
   "source": [
    "## Combine the PetDinder data with the US Census data"
   ]
  },
  {
   "cell_type": "markdown",
   "id": "cd9f65bb-5e76-4958-9d42-a677b3260782",
   "metadata": {},
   "source": [
    "For each df of petfinder results...\n",
    "1) Calculate the number of dogs per 100000 people based on 2024 estimated population\n",
    "2) Combine that data with the ACS data\n",
    "\n",
    "Then combine the results into one df"
   ]
  },
  {
   "cell_type": "code",
   "execution_count": null,
   "id": "140bb257-867d-4db6-8089-286071e409bf",
   "metadata": {},
   "outputs": [],
   "source": [
    "state_stat_dfs = {}\n",
    "\n",
    "for date, df in dogdfs.items():\n",
    "    #merge the two datasets\n",
    "    merged = pd.merge(df, pop_data, how='inner', left_on='state', right_on='Abbr')\n",
    "    \n",
    "    #keep only the columns we care about\n",
    "    merged = merged[['state', 'count', 'DIVISION', 'POPESTIMATE2024']]\n",
    "    \n",
    "    #calculate dogs per capita\n",
    "    merged['dogs_per_capita'] = merged['count'].div(merged['POPESTIMATE2024'], axis=0)*100000\n",
    "\n",
    "    #add economic/household data generated from ACS 1yr dataset\n",
    "    state_stats = pd.merge(merged, acs_data, how='inner', left_on='state', right_on='Abbr')\n",
    "    state_stats.drop(columns=['NAME','Abbr'], inplace=True)\n",
    "\n",
    "    #add the date so we can differentiate between the two petfinder datasets (if we want to)\n",
    "    state_stats['DATASET'] = date\n",
    "\n",
    "    #now save the resulting df in the dictionary we created\n",
    "    state_stat_dfs[date] = state_stats\n",
    "    \n",
    "all_data = pd.concat(state_stat_dfs.values(), ignore_index=True)"
   ]
  },
  {
   "cell_type": "markdown",
   "id": "d3ac0305-219a-4638-b356-596048ae8eac",
   "metadata": {},
   "source": [
    "## Plotting"
   ]
  },
  {
   "cell_type": "markdown",
   "id": "9c624830-9311-456e-9b5d-da8d12b4d9fa",
   "metadata": {},
   "source": [
    "Compare poverty rates with the relative number of dogs on petfinder"
   ]
  },
  {
   "cell_type": "code",
   "execution_count": null,
   "id": "1365fa5e-04b6-46d9-8d83-02c5e6d21213",
   "metadata": {},
   "outputs": [],
   "source": [
    "sns.lmplot(x='dogs_per_capita', y='pct_poverty', data=all_data);"
   ]
  },
  {
   "cell_type": "markdown",
   "id": "a624e084-36a9-47f4-bb18-e19649598600",
   "metadata": {},
   "source": [
    "Visualize the regions on a scatter plot"
   ]
  },
  {
   "cell_type": "code",
   "execution_count": null,
   "id": "0fd312df-476f-4534-96b2-9eb23a3a7d3b",
   "metadata": {},
   "outputs": [],
   "source": [
    "df = all_data.astype({'DIVISION':'int'})\n",
    "df.replace({'DIVISION': region_dict}, inplace=True)\n",
    "sns.scatterplot(x='dogs_per_capita', y='pct_poverty', data=df, hue='DIVISION', style='DATASET');"
   ]
  }
 ],
 "metadata": {
  "kernelspec": {
   "display_name": "Python 3 (ipykernel)",
   "language": "python",
   "name": "python3"
  },
  "language_info": {
   "codemirror_mode": {
    "name": "ipython",
    "version": 3
   },
   "file_extension": ".py",
   "mimetype": "text/x-python",
   "name": "python",
   "nbconvert_exporter": "python",
   "pygments_lexer": "ipython3",
   "version": "3.13.0"
  }
 },
 "nbformat": 4,
 "nbformat_minor": 5
}
