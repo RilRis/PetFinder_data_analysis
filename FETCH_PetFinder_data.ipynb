{
 "cells": [
  {
   "cell_type": "code",
   "execution_count": null,
   "id": "5355d5c1-c5d6-4fda-acbc-220919178f10",
   "metadata": {},
   "outputs": [],
   "source": [
    "#Import modules\n",
    "import requests\n",
    "from datetime import datetime\n",
    "import json\n",
    "from termcolor import colored\n",
    "import os\n"
   ]
  },
  {
   "cell_type": "markdown",
   "id": "a8a7c4ef-0812-4efa-b905-95785947b8a3",
   "metadata": {
    "editable": true,
    "slideshow": {
     "slide_type": ""
    },
    "tags": []
   },
   "source": [
    "# Fetch the profiles of 50,000 dogs from PetFinder "
   ]
  },
  {
   "cell_type": "markdown",
   "id": "1281c81d-b34b-4863-9f45-e42ef67f3e29",
   "metadata": {},
   "source": [
    "## Setting up"
   ]
  },
  {
   "cell_type": "markdown",
   "id": "c015c18e-6841-4000-8c2c-e7770bb77f81",
   "metadata": {},
   "source": [
    "Before you start, decide where you want to keep the data collected from PetFinder (and the data generated from all of the analyses)"
   ]
  },
  {
   "cell_type": "code",
   "execution_count": null,
   "id": "8fa3920f-bba6-4aa7-acfb-fb7e8f7f28ca",
   "metadata": {},
   "outputs": [],
   "source": [
    "pf_data_folder = 'petfinder_data'"
   ]
  },
  {
   "cell_type": "markdown",
   "id": "e324c731-68b9-48b8-8204-e12977147808",
   "metadata": {},
   "source": [
    "Sign up for API access through PetFinder, and they will provide an \"API Key\" *(client_id)* and \"Secret\" *(client_secret)*. Use these to request an access token, then save the value as \"token\""
   ]
  },
  {
   "cell_type": "code",
   "execution_count": null,
   "id": "118b4546-625f-4f79-b13d-945405da1d49",
   "metadata": {},
   "outputs": [],
   "source": [
    "data = {\n",
    "    'grant_type': 'client_credentials',\n",
    "    'client_id': '<YOUR API KEY>',\n",
    "    'client_secret': '<YOUR SECRET HERE>',\n",
    "}\n",
    "\n",
    "token_response = requests.post('https://api.petfinder.com/v2/oauth2/token', data=data)\n",
    "\n",
    "#decode the byte object that was output, giving us a dictionary\n",
    "##note: we want token_response.content, as that is what contains our access token\n",
    "token_resp_parsed = json.loads(token_response.content.decode())\n",
    "\n",
    "token = token_resp_parsed['access_token']\n",
    "\n",
    "#check that you actually retrieved a token. if you dont, force exit with an error message\n",
    "if not token:\n",
    "    raise Exception(colored('no token found', 'red'))\n"
   ]
  },
  {
   "cell_type": "markdown",
   "id": "e28a050e-0b96-4b2c-bfb0-798c2bc8e6b5",
   "metadata": {},
   "source": [
    "## Using the generated token, fetch the profiles of 50,000 dogs\n",
    "**Note:** The absolute max you can retrieve in a day with basic API access is 100,000\n",
    "\n",
    "\n",
    "Max profiles per page is 100, pages are requested one at a time, and basic access only allows for 1000 requests/day"
   ]
  },
  {
   "cell_type": "markdown",
   "id": "c449e84c-09e9-4aa5-8d91-de04f8bbc1e0",
   "metadata": {},
   "source": [
    "### Collect 50,000 profiles by retrieving the most recent 500 pages of results"
   ]
  },
  {
   "cell_type": "code",
   "execution_count": null,
   "id": "220e94ba-1785-40af-9beb-9aa6da76ea69",
   "metadata": {
    "editable": true,
    "slideshow": {
     "slide_type": ""
    },
    "tags": []
   },
   "outputs": [],
   "source": [
    "#create a list to append each page of data to\n",
    "merged_results = []\n",
    "\n",
    "#you can only retrieve 100 dogs per page, so create a loop to retrieve 100 pages of results\n",
    "for num in range(1,501):\n",
    "    headers = {\n",
    "        'Authorization': f'Bearer {token}',\n",
    "    }\n",
    "    #only select dogs, and return 100 dog profiles per page. Select the page number corresponding to the loop num\n",
    "    param = {\n",
    "        'type': 'Dog',\n",
    "        'limit': 100,  #the petfinder limit for dogs per page is 100\n",
    "        'page': num,\n",
    "    }\n",
    "    \n",
    "    response = requests.get('https://api.petfinder.com/v2/animals', headers=headers, params=param)\n",
    "\n",
    "    #once your response is returned, decode it to convert it from a bytes object into a list of dictionaries (one dictionary per dog)\n",
    "    ## .decode turns byte -> json string\n",
    "    ## json.loads() turns json string -> list of dictionaries\n",
    "    results = json.loads(response.content.decode())\n",
    "    merged_results.extend(results['animals'])\n",
    "\n",
    "    #because this process takes so long, print a message for every 100 pages retrieved\n",
    "    if num == 1:\n",
    "        print('PROGRESS...')\n",
    "    if num in range(0, 501, 100):\n",
    "        print(f'   {num} pages retrieved')\n",
    "\n",
    "#record the date (in your time zone) that you collected the data\n",
    "run_date = datetime.today().strftime('%Y-%m-%d')\n",
    "\n",
    "#double check that you have all 50,000 results before saving this raw data as a json\n",
    "if len(merged_results) < 50000:\n",
    "    print(colored(f'WARNING! Only {len(merged_results)} profiles recovered', 'red'))\n",
    "    \n",
    "else:\n",
    "    print(colored(f'Successfully recovered 50,000 profiles', 'green'))\n",
    "    with open(f'{pf_data_folder}/{run_date}.json', 'w') as f:\n",
    "            json.dump(merged_results, f, indent=4)\n"
   ]
  },
  {
   "cell_type": "markdown",
   "id": "4cd96de4-3962-4979-be71-905a6dd2cb51",
   "metadata": {},
   "source": [
    "### Make sure all of the expected data is present and remove any duplicate profiles\n",
    "**Note:** Wait until the previous chunk is complete (and the green text is printed) before continuing. It will take a while."
   ]
  },
  {
   "cell_type": "code",
   "execution_count": null,
   "id": "7a1eedbf-ef1b-4df5-a2f8-82a8f6725209",
   "metadata": {
    "editable": true,
    "slideshow": {
     "slide_type": ""
    },
    "tags": []
   },
   "outputs": [],
   "source": [
    "#create a new json in which there are no duplicate profiles, using \"id\" to determine if a profiles is unique\n",
    "unique_ids = []\n",
    "animals = []\n",
    "for dog in merged_results:\n",
    "    if any(unique_ids) == dog['id']:\n",
    "        print(f'Dog number {dog[\"id\"]} is a duplicate')\n",
    "    else:\n",
    "        unique_ids.append(dog['id'])\n",
    "        animals.append(dog)\n",
    "\n",
    "#check the number of dog profiles\n",
    "print('number of dogs:', len(animals))\n"
   ]
  },
  {
   "cell_type": "markdown",
   "id": "2176fe64-2584-4350-8b3e-e7939d101734",
   "metadata": {},
   "source": [
    "## Create a json file containing only specified data from each dog\n",
    "\n",
    "Since there is a lot of extra information in the original json (and the data is in a nested format), create a new json where each dog has a single dictionary of only relevent information. \n",
    "\n",
    "This flattens the data and makes it easier to work with."
   ]
  },
  {
   "cell_type": "markdown",
   "id": "499101b7-7595-4681-a58b-074abd8d0336",
   "metadata": {},
   "source": [
    "### Create list of dictionaries, with each dictionary containing only the relevent data for a single dog"
   ]
  },
  {
   "cell_type": "code",
   "execution_count": null,
   "id": "7bde7fa9-abd9-47ac-8fdc-646c6fcaa847",
   "metadata": {
    "editable": true,
    "slideshow": {
     "slide_type": ""
    },
    "tags": []
   },
   "outputs": [],
   "source": [
    "#create empty list to put the dictionary for each dog into\n",
    "dog_data = []\n",
    "\n",
    "for dog in animals:\n",
    "    #if you want to combine both breed fields into a list instead of having two seperate keys (primary_breed and secondary_breed)...\n",
    "    ##combine both breeds in a list. If there isn't a secondary breed listed, then only include the first breed (dont include \"None\" from second breed)\n",
    "    if dog['breeds']['secondary'] == None:\n",
    "        breed_list = [dog['breeds']['primary']]\n",
    "    else:\n",
    "        breed_list = [dog['breeds']['primary'], dog['breeds']['secondary']]\n",
    "    \n",
    "    #extract the data you care about, storing it in a dictionary for each dog\n",
    "    dog = {'id': dog['id'],\n",
    "           'name': dog['name'],\n",
    "           'gender': dog['gender'],\n",
    "           'age': dog['age'],\n",
    "           'breeds': breed_list,\n",
    "           'spayed_neutered': dog['attributes']['spayed_neutered'],\n",
    "           'date': dog['published_at'],\n",
    "           'org_id': dog['organization_id'],\n",
    "           'state': dog['contact']['address']['state'],\n",
    "           'country': dog['contact']['address']['country'],\n",
    "           #note: the date_fetched value may appear to be earlier than the date the profile was published because the publish date is in UTC time while date_fetched is in EST, which is 4 to 5 hours behind UTC (depending on daylight savings) \n",
    "           'date_fetched': run_date\n",
    "        }\n",
    "    #now add this dog's dictionary to the list\n",
    "    dog_data.append(dog)"
   ]
  },
  {
   "cell_type": "markdown",
   "id": "d4714e89-5bb7-4d71-b96f-f7741c980f19",
   "metadata": {},
   "source": [
    "### Save the filtered results as a json"
   ]
  },
  {
   "cell_type": "code",
   "execution_count": null,
   "id": "efa3df2d-3162-4bee-abb9-2a8cb2373672",
   "metadata": {},
   "outputs": [],
   "source": [
    "#write the output to a new file\n",
    "filt_reslt_filename = 'filtered_results.json'\n",
    "\n",
    "##if a file of that name already exists, add the date to avoid overwriting it\n",
    "if os.path.exists(filt_reslt_filename):\n",
    "    filt_reslt_filename = f'{run_date}_{filt_reslt_filename}'\n",
    "\n",
    "with open(f'{pf_data_folder}/{filt_reslt_filename}', 'w') as f:\n",
    "    json.dump(dog_data, f, indent=2)"
   ]
  }
 ],
 "metadata": {
  "kernelspec": {
   "display_name": "Python 3 (ipykernel)",
   "language": "python",
   "name": "python3"
  },
  "language_info": {
   "codemirror_mode": {
    "name": "ipython",
    "version": 3
   },
   "file_extension": ".py",
   "mimetype": "text/x-python",
   "name": "python",
   "nbconvert_exporter": "python",
   "pygments_lexer": "ipython3",
   "version": "3.13.0"
  }
 },
 "nbformat": 4,
 "nbformat_minor": 5
}
